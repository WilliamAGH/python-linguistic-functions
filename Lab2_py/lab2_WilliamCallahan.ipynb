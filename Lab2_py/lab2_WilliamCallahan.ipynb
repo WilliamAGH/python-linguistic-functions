{
  "cells": [
    {
      "cell_type": "markdown",
      "metadata": {
        "colab_type": "text",
        "id": "view-in-github"
      },
      "source": [
        "<a href=\"https://colab.research.google.com/github/WilliamAGH/python-linguistic-functions/blob/main/Lab2_py/lab2_WilliamCallahan.ipynb\" target=\"_parent\"><img src=\"https://colab.research.google.com/assets/colab-badge.svg\" alt=\"Open In Colab\"/></a>"
      ]
    },
    {
      "cell_type": "markdown",
      "metadata": {
        "id": "DTLeMmILlR2M"
      },
      "source": [
        "# Lab 2 - Part 2\n",
        "- This part is individual\n",
        "- Write the code for each one of the tests below\n",
        "- Make sure to leave the outputs under the code cells after you run them\n",
        "- Turn in both files: this notebook and the Antics.py module\n",
        "\n",
        "**Author**:\n",
        "William Callahan\n",
        "**Date**:\n",
        "March 5, 2025"
      ]
    },
    {
      "cell_type": "markdown",
      "metadata": {
        "id": "09EBCaQ03ufp"
      },
      "source": [
        "## Setup\n",
        "Copy Antics.py to the same folder where you have this notebook and run the following two cells to set up."
      ]
    },
    {
      "cell_type": "code",
      "execution_count": 1,
      "metadata": {
        "colab": {
          "background_save": true
        },
        "collapsed": true,
        "id": "NRxbgO5rSc7M"
      },
      "outputs": [],
      "source": [
        "# Before you run this cell, make sure you have Antics.py inside the Colab Notebooks folder\n",
        "import Antics as ant"
      ]
    },
    {
      "cell_type": "markdown",
      "metadata": {
        "id": "S8H_mwUc3aEg"
      },
      "source": [
        "# Directions for Testing\n",
        "Write test cases for tests 1-6.\n",
        "Note that I give you an example on how to write the test case on the first test. You are expected to follow the same format on all tests.\n",
        "\n",
        "Leave the outputs on each task."
      ]
    },
    {
      "cell_type": "markdown",
      "metadata": {
        "id": "0bUtg_YrhoK9"
      },
      "source": [
        "**Test 1:** Use the following cell to test the palindrome function that you created in antics.py passing a word that is a palindrome and a word that is not a palindrome like in the example below.\n",
        "\n",
        "**palindrome:** a word or sentence that reads the same backwards\n",
        "\n",
        "An example is provided below. Change it to use your name instead of mine"
      ]
    },
    {
      "cell_type": "code",
      "execution_count": 2,
      "metadata": {
        "colab": {
          "base_uri": "https://localhost:8080/"
        },
        "id": "dquJSqkdmk-s",
        "outputId": "8d52958a-8468-4779-fc5a-891e4261ded4"
      },
      "outputs": [
        {
          "name": "stdout",
          "output_type": "stream",
          "text": [
            "william is not a palindrome\n",
            "anna is a palindrome\n"
          ]
        }
      ],
      "source": [
        "print(\"william\", \"is\" if ant.palindrome(\"hellen\") else \"is not\", \"a palindrome\")\n",
        "print(\"anna\", \"is\" if ant.palindrome(\"anna\") else \"is not\", \"a palindrome\")\n"
      ]
    },
    {
      "cell_type": "markdown",
      "metadata": {
        "id": "JMqTVLNSiSjy"
      },
      "source": [
        "**Test 2:** Use the following cell to test the **pangram** function that you defined in antics.py passing a sentence that is a pangram and a sentence that is not a pangram\n",
        "\n",
        "**pangram:** a phrase or sentence containing all 26 letters of the alphabet\n",
        "\n",
        "*Example of a pangram sentence: The quick brown fox jumps over the lazy dog*\n",
        "\n",
        "Make sure to leave the output of your testing below the code cell"
      ]
    },
    {
      "cell_type": "code",
      "execution_count": 3,
      "metadata": {
        "id": "6ZHy7IX2n0lh"
      },
      "outputs": [
        {
          "name": "stdout",
          "output_type": "stream",
          "text": [
            "The quick brown fox jumps over the lazy dog is a pangram\n",
            "Hello world is not a pangram\n"
          ]
        }
      ],
      "source": [
        "print(\"The quick brown fox jumps over the lazy dog\", \"is\" if ant.pangram(\"The quick brown fox jumps over the lazy dog\") else \"is not\", \"a pangram\")\n",
        "print(\"Hello world\", \"is\" if ant.pangram(\"Hello world\") else \"is not\", \"a pangram\")\n"
      ]
    },
    {
      "cell_type": "markdown",
      "metadata": {
        "id": "Y2Dwsybsi9lQ"
      },
      "source": [
        "**Test 3:** Use the following cell to test the **tautogram** function that you defined in antics.py passing a text that is a tautogram and a text that is not a tautogram\n",
        "\n",
        "**tautogram:** a text in which all words start with the same letter\n",
        "\n",
        "*Example of a tautogram sentence: Brilliant, because bacon bites beat bruschetta*\n",
        "\n",
        "Make sure to leave the output of your testing below the code cell"
      ]
    },
    {
      "cell_type": "code",
      "execution_count": 4,
      "metadata": {
        "id": "2nRotFvBi79b"
      },
      "outputs": [
        {
          "name": "stdout",
          "output_type": "stream",
          "text": [
            "Brilliant because bacon bites beat bruschetta is a tautogram\n",
            "This is not a tautogram is not a tautogram\n"
          ]
        }
      ],
      "source": [
        "print(\"Brilliant because bacon bites beat bruschetta\", \"is\" if ant.tautogram(\"Brilliant because bacon bites beat bruschetta\") else \"is not\", \"a tautogram\")\n",
        "print(\"This is not a tautogram\", \"is\" if ant.tautogram(\"This is not a tautogram\") else \"is not\", \"a tautogram\")\n"
      ]
    },
    {
      "cell_type": "markdown",
      "metadata": {
        "id": "CCuPsdhmkGwk"
      },
      "source": [
        "**Test 4:** Use the following cell to test the **isogram** function that you defined in antics.py passing a word that is an isogram and a word that is not an isoogram\n",
        "\n",
        "**isogram:** a word in which no letter of the alphabet occurs more than once\n",
        "\n",
        "*Example of an isogram: demographics*\n",
        "\n",
        "Make sure to leave the output of your testing below the code cell"
      ]
    },
    {
      "cell_type": "code",
      "execution_count": 5,
      "metadata": {
        "id": "HMS8akqQpatk"
      },
      "outputs": [
        {
          "name": "stdout",
          "output_type": "stream",
          "text": [
            "demographics is an isogram\n",
            "hello is not an isogram\n"
          ]
        }
      ],
      "source": [
        "print(\"demographics\", \"is\" if ant.isogram(\"demographics\") else \"is not\", \"an isogram\")\n",
        "print(\"hello\", \"is\" if ant.isogram(\"hello\") else \"is not\", \"an isogram\")\n",
        "\n"
      ]
    },
    {
      "cell_type": "markdown",
      "metadata": {
        "id": "lvCKOdv-ke9X"
      },
      "source": [
        "**Test 5:** Use this cell to test the **abecedarian** function that you defined in antics.py passing a word that is an abecedarian and a word that is not an abecedarian\n",
        "\n",
        "**abecedarian:** a word in which the letters appear in alphabetical order\n",
        "\n",
        "*Examples of abecedarian words: bijoux, biopsy, dimpsy*\n",
        "\n",
        "Make sure to leave the output of your testing below the code cell"
      ]
    },
    {
      "cell_type": "code",
      "execution_count": 9,
      "metadata": {
        "id": "yFV8eDfFpbdx"
      },
      "outputs": [
        {
          "name": "stdout",
          "output_type": "stream",
          "text": [
            "bijoux is abecedarian\n",
            "hello is not abecedarian\n"
          ]
        }
      ],
      "source": [
        "print(\"bijoux\", \"is\" if ant.abecedarian(\"bijoux\") else \"is not\", \"abecedarian\")\n",
        "print(\"hello\", \"is\" if ant.abecedarian(\"hello\") else \"is not\", \"abecedarian\")\n"
      ]
    },
    {
      "cell_type": "markdown",
      "metadata": {
        "id": "HBNHghIEk-Zz"
      },
      "source": [
        "**Test 6:** Use the following cell to test the **dobloon** function that you defined in antis.py passing a word that is a dobloon and a word that is not a dobloon\n",
        "\n",
        "**dobloon:** a word in which every letter that appears in the word appears exactly twice\n",
        "\n",
        "*Examples of dobloons: murmur, noon, reappear, sees*\n",
        "\n",
        "Make sure to leave the output of your testing below the code cell"
      ]
    },
    {
      "cell_type": "code",
      "execution_count": 8,
      "metadata": {
        "id": "NHZb1xYbpbnK"
      },
      "outputs": [
        {
          "name": "stdout",
          "output_type": "stream",
          "text": [
            "murmur is dobloon\n",
            "hello is not dobloon\n"
          ]
        }
      ],
      "source": [
        "print(\"murmur\", \"is\" if ant.dobloon(\"murmur\") else \"is not\", \"dobloon\")\n",
        "print(\"hello\", \"is\" if ant.dobloon(\"hello\") else \"is not\", \"dobloon\")\n"
      ]
    },
    {
      "cell_type": "markdown",
      "metadata": {
        "id": "g9sb21KFwAOc"
      },
      "source": [
        "# Submission instructions\n",
        "Make sure you have your name in the first cell.\n",
        "\n",
        "After testing all the functions you implemented in Antics.py by running the cells above, download this notebook and rename it as lab2_YourName.ipynb.\n",
        "\n",
        "On Canvas:\n",
        "\n",
        "*   Share the link to this notebook\n",
        "*   Upload the downloaded lab2_YourName.ipynb\n",
        "*   Upload the Antics.py that you completed with your partner\n",
        "\n"
      ]
    }
  ],
  "metadata": {
    "colab": {
      "include_colab_link": true,
      "provenance": []
    },
    "kernelspec": {
      "display_name": "Python 3",
      "name": "python3"
    },
    "language_info": {
      "codemirror_mode": {
        "name": "ipython",
        "version": 3
      },
      "file_extension": ".py",
      "mimetype": "text/x-python",
      "name": "python",
      "nbconvert_exporter": "python",
      "pygments_lexer": "ipython3",
      "version": "3.12.8"
    }
  },
  "nbformat": 4,
  "nbformat_minor": 0
}
