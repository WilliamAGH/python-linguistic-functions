{
  "cells": [
    {
      "cell_type": "markdown",
      "metadata": {
        "id": "view-in-github",
        "colab_type": "text"
      },
      "source": [
        "<a href=\"https://colab.research.google.com/github/WilliamAGH/python-linguistic-functions/blob/main/part-2-tests/lab2-william-callahan.ipynb\" target=\"_parent\"><img src=\"https://colab.research.google.com/assets/colab-badge.svg\" alt=\"Open In Colab\"/></a>"
      ]
    },
    {
      "cell_type": "markdown",
      "metadata": {
        "id": "DTLeMmILlR2M"
      },
      "source": [
        "# Lab 2 - Part 2\n",
        "- This part is individual\n",
        "- Write the code for each one of the tests below\n",
        "- Make sure to leave the outputs under the code cells after you run them\n",
        "- Turn in both files: this notebook and the Antics.py module\n",
        "\n",
        "**Author**:\n",
        "William Callahan\n",
        "**Date**:\n",
        "March 5, 2025"
      ]
    },
    {
      "cell_type": "markdown",
      "metadata": {
        "id": "09EBCaQ03ufp"
      },
      "source": [
        "## Setup\n",
        "Copy Antics.py to the same folder where you have this notebook and run the following two cells to set up."
      ]
    },
    {
      "cell_type": "code",
      "execution_count": null,
      "metadata": {
        "colab": {
          "background_save": true
        },
        "collapsed": true,
        "id": "FrfDMtpPSTvm"
      },
      "outputs": [],
      "source": [
        "# Run this cell to mount your Google Drive\n",
        "from google.colab import drive\n",
        "drive.mount('/content/gdrive', force_remount=True)\n",
        "%cd /content/gdrive/MyDrive/Colab Notebooks/CIS117"
      ]
    },
    {
      "cell_type": "code",
      "execution_count": null,
      "metadata": {
        "colab": {
          "background_save": true
        },
        "collapsed": true,
        "id": "NRxbgO5rSc7M"
      },
      "outputs": [],
      "source": [
        "# Before you run this cell, make sure you have Antics.py inside the Colab Notebooks folder\n",
        "import Antics as ant"
      ]
    },
    {
      "cell_type": "markdown",
      "metadata": {
        "id": "S8H_mwUc3aEg"
      },
      "source": [
        "# Directions for Testing\n",
        "Write test cases for tests 1-6.\n",
        "Note that I give you an example on how to write the test case on the first test. You are expected to follow the same format on all tests.\n",
        "\n",
        "Leave the outputs on each task."
      ]
    },
    {
      "cell_type": "markdown",
      "metadata": {
        "id": "0bUtg_YrhoK9"
      },
      "source": [
        "**Test 1:** Use the following cell to test the palindrome function that you created in antics.py passing a word that is a palindrome and a word that is not a palindrome like in the example below.\n",
        "\n",
        "**palindrome:** a word or sentence that reads the same backwards\n",
        "\n",
        "An example is provided below. Change it to use your name instead of mine"
      ]
    },
    {
      "cell_type": "code",
      "execution_count": null,
      "metadata": {
        "colab": {
          "base_uri": "https://localhost:8080/"
        },
        "id": "dquJSqkdmk-s",
        "outputId": "8d52958a-8468-4779-fc5a-891e4261ded4"
      },
      "outputs": [
        {
          "name": "stdout",
          "output_type": "stream",
          "text": [
            "hellen is not palindrome\n",
            "anna is palindrome\n"
          ]
        }
      ],
      "source": [
        "print(\"hellen\", \"is\" if ant.palindrome(\"hellen\") else \"is not\", \"palindrome\")\n",
        "print(\"anna\", \"is\" if ant.palindrome(\"anna\") else \"is not\", \"palindrome\")\n"
      ]
    },
    {
      "cell_type": "markdown",
      "metadata": {
        "id": "JMqTVLNSiSjy"
      },
      "source": [
        "**Test 2:** Use the following cell to test the **pangram** function that you defined in antics.py passing a sentence that is a pangram and a sentence that is not a pangram\n",
        "\n",
        "**pangram:** a phrase or sentence containing all 26 letters of the alphabet\n",
        "\n",
        "*Example of a pangram sentence: The quick brown fox jumps over the lazy dog*\n",
        "\n",
        "Make sure to leave the output of your testing below the code cell"
      ]
    },
    {
      "cell_type": "code",
      "execution_count": null,
      "metadata": {
        "id": "6ZHy7IX2n0lh"
      },
      "outputs": [],
      "source": []
    },
    {
      "cell_type": "markdown",
      "metadata": {
        "id": "Y2Dwsybsi9lQ"
      },
      "source": [
        "**Test 3:** Use the following cell to test the **tautogram** function that you defined in antics.py passing a text that is a tautogram and a text that is not a tautogram\n",
        "\n",
        "**tautogram:** a text in which all words start with the same letter\n",
        "\n",
        "*Example of a tautogram sentence: Brilliant, because bacon bites beat bruschetta*\n",
        "\n",
        "Make sure to leave the output of your testing below the code cell"
      ]
    },
    {
      "cell_type": "code",
      "execution_count": null,
      "metadata": {
        "id": "2nRotFvBi79b"
      },
      "outputs": [],
      "source": []
    },
    {
      "cell_type": "markdown",
      "metadata": {
        "id": "CCuPsdhmkGwk"
      },
      "source": [
        "**Test 4:** Use the following cell to test the **isogram** function that you defined in antics.py passing a word that is an isogram and a word that is not an isoogram\n",
        "\n",
        "**isogram:** a word in which no letter of the alphabet occurs more than once\n",
        "\n",
        "*Example of an isogram: demographics*\n",
        "\n",
        "Make sure to leave the output of your testing below the code cell"
      ]
    },
    {
      "cell_type": "code",
      "execution_count": null,
      "metadata": {
        "id": "HMS8akqQpatk"
      },
      "outputs": [],
      "source": []
    },
    {
      "cell_type": "markdown",
      "metadata": {
        "id": "lvCKOdv-ke9X"
      },
      "source": [
        "**Test 5:** Use this cell to test the **abecedarian** function that you defined in antics.py passing a word that is an abecedarian and a word that is not an abecedarian\n",
        "\n",
        "**abecedarian:** a word in which the letters appear in alphabetical order\n",
        "\n",
        "*Examples of abecedarian words: bijoux, biopsy, dimpsy*\n",
        "\n",
        "Make sure to leave the output of your testing below the code cell"
      ]
    },
    {
      "cell_type": "code",
      "execution_count": null,
      "metadata": {
        "id": "yFV8eDfFpbdx"
      },
      "outputs": [],
      "source": []
    },
    {
      "cell_type": "markdown",
      "metadata": {
        "id": "HBNHghIEk-Zz"
      },
      "source": [
        "**Test 6:** Use the following cell to test the **dobloon** function that you defined in antis.py passing a word that is a dobloon and a word that is not a dobloon\n",
        "\n",
        "**dobloon:** a word in which every letter that appears in the word appears exactly twice\n",
        "\n",
        "*Examples of dobloons: murmur, noon, reappear, sees*\n",
        "\n",
        "Make sure to leave the output of your testing below the code cell"
      ]
    },
    {
      "cell_type": "code",
      "execution_count": null,
      "metadata": {
        "id": "NHZb1xYbpbnK"
      },
      "outputs": [],
      "source": []
    },
    {
      "cell_type": "markdown",
      "metadata": {
        "id": "g9sb21KFwAOc"
      },
      "source": [
        "# Submission instructions\n",
        "Make sure you have your name in the first cell.\n",
        "\n",
        "After testing all the functions you implemented in Antics.py by running the cells above, download this notebook and rename it as lab2_YourName.ipynb.\n",
        "\n",
        "On Canvas:\n",
        "\n",
        "*   Share the link to this notebook\n",
        "*   Upload the downloaded lab2_YourName.ipynb\n",
        "*   Upload the Antics.py that you completed with your partner\n",
        "\n"
      ]
    }
  ],
  "metadata": {
    "colab": {
      "provenance": [],
      "include_colab_link": true
    },
    "kernelspec": {
      "display_name": "Python 3",
      "name": "python3"
    },
    "language_info": {
      "name": "python"
    }
  },
  "nbformat": 4,
  "nbformat_minor": 0
}
